{
 "cells": [
  {
   "cell_type": "code",
   "execution_count": 2,
   "metadata": {},
   "outputs": [],
   "source": [
    "import pandas as pd"
   ]
  },
  {
   "cell_type": "code",
   "execution_count": 5,
   "metadata": {},
   "outputs": [],
   "source": [
    "data = pd.read_json(\"..\\Fit\\All Data\\derived_com.google.sleep.segment_com.google.an.json\")"
   ]
  },
  {
   "cell_type": "code",
   "execution_count": 6,
   "metadata": {},
   "outputs": [
    {
     "data": {
      "text/html": [
       "<div>\n",
       "<style scoped>\n",
       "    .dataframe tbody tr th:only-of-type {\n",
       "        vertical-align: middle;\n",
       "    }\n",
       "\n",
       "    .dataframe tbody tr th {\n",
       "        vertical-align: top;\n",
       "    }\n",
       "\n",
       "    .dataframe thead th {\n",
       "        text-align: right;\n",
       "    }\n",
       "</style>\n",
       "<table border=\"1\" class=\"dataframe\">\n",
       "  <thead>\n",
       "    <tr style=\"text-align: right;\">\n",
       "      <th></th>\n",
       "      <th>Data Source</th>\n",
       "      <th>Data Points</th>\n",
       "    </tr>\n",
       "  </thead>\n",
       "  <tbody>\n",
       "    <tr>\n",
       "      <th>0</th>\n",
       "      <td>derived:com.google.sleep.segment:com.google.an...</td>\n",
       "      <td>{'fitValue': [{'value': {'intVal': 5}}], 'orig...</td>\n",
       "    </tr>\n",
       "    <tr>\n",
       "      <th>1</th>\n",
       "      <td>derived:com.google.sleep.segment:com.google.an...</td>\n",
       "      <td>{'fitValue': [{'value': {'intVal': 4}}], 'orig...</td>\n",
       "    </tr>\n",
       "    <tr>\n",
       "      <th>2</th>\n",
       "      <td>derived:com.google.sleep.segment:com.google.an...</td>\n",
       "      <td>{'fitValue': [{'value': {'intVal': 5}}], 'orig...</td>\n",
       "    </tr>\n",
       "    <tr>\n",
       "      <th>3</th>\n",
       "      <td>derived:com.google.sleep.segment:com.google.an...</td>\n",
       "      <td>{'fitValue': [{'value': {'intVal': 4}}], 'orig...</td>\n",
       "    </tr>\n",
       "    <tr>\n",
       "      <th>4</th>\n",
       "      <td>derived:com.google.sleep.segment:com.google.an...</td>\n",
       "      <td>{'fitValue': [{'value': {'intVal': 6}}], 'orig...</td>\n",
       "    </tr>\n",
       "    <tr>\n",
       "      <th>...</th>\n",
       "      <td>...</td>\n",
       "      <td>...</td>\n",
       "    </tr>\n",
       "    <tr>\n",
       "      <th>32466</th>\n",
       "      <td>derived:com.google.sleep.segment:com.google.an...</td>\n",
       "      <td>{'fitValue': [{'value': {'intVal': 1}}], 'orig...</td>\n",
       "    </tr>\n",
       "    <tr>\n",
       "      <th>32467</th>\n",
       "      <td>derived:com.google.sleep.segment:com.google.an...</td>\n",
       "      <td>{'fitValue': [{'value': {'intVal': 1}}], 'orig...</td>\n",
       "    </tr>\n",
       "    <tr>\n",
       "      <th>32468</th>\n",
       "      <td>derived:com.google.sleep.segment:com.google.an...</td>\n",
       "      <td>{'fitValue': [{'value': {'intVal': 4}}], 'orig...</td>\n",
       "    </tr>\n",
       "    <tr>\n",
       "      <th>32469</th>\n",
       "      <td>derived:com.google.sleep.segment:com.google.an...</td>\n",
       "      <td>{'fitValue': [{'value': {'intVal': 5}}], 'orig...</td>\n",
       "    </tr>\n",
       "    <tr>\n",
       "      <th>32470</th>\n",
       "      <td>derived:com.google.sleep.segment:com.google.an...</td>\n",
       "      <td>{'fitValue': [{'value': {'intVal': 4}}], 'orig...</td>\n",
       "    </tr>\n",
       "  </tbody>\n",
       "</table>\n",
       "<p>32471 rows × 2 columns</p>\n",
       "</div>"
      ],
      "text/plain": [
       "                                             Data Source   \n",
       "0      derived:com.google.sleep.segment:com.google.an...  \\\n",
       "1      derived:com.google.sleep.segment:com.google.an...   \n",
       "2      derived:com.google.sleep.segment:com.google.an...   \n",
       "3      derived:com.google.sleep.segment:com.google.an...   \n",
       "4      derived:com.google.sleep.segment:com.google.an...   \n",
       "...                                                  ...   \n",
       "32466  derived:com.google.sleep.segment:com.google.an...   \n",
       "32467  derived:com.google.sleep.segment:com.google.an...   \n",
       "32468  derived:com.google.sleep.segment:com.google.an...   \n",
       "32469  derived:com.google.sleep.segment:com.google.an...   \n",
       "32470  derived:com.google.sleep.segment:com.google.an...   \n",
       "\n",
       "                                             Data Points  \n",
       "0      {'fitValue': [{'value': {'intVal': 5}}], 'orig...  \n",
       "1      {'fitValue': [{'value': {'intVal': 4}}], 'orig...  \n",
       "2      {'fitValue': [{'value': {'intVal': 5}}], 'orig...  \n",
       "3      {'fitValue': [{'value': {'intVal': 4}}], 'orig...  \n",
       "4      {'fitValue': [{'value': {'intVal': 6}}], 'orig...  \n",
       "...                                                  ...  \n",
       "32466  {'fitValue': [{'value': {'intVal': 1}}], 'orig...  \n",
       "32467  {'fitValue': [{'value': {'intVal': 1}}], 'orig...  \n",
       "32468  {'fitValue': [{'value': {'intVal': 4}}], 'orig...  \n",
       "32469  {'fitValue': [{'value': {'intVal': 5}}], 'orig...  \n",
       "32470  {'fitValue': [{'value': {'intVal': 4}}], 'orig...  \n",
       "\n",
       "[32471 rows x 2 columns]"
      ]
     },
     "execution_count": 6,
     "metadata": {},
     "output_type": "execute_result"
    }
   ],
   "source": [
    "data"
   ]
  },
  {
   "cell_type": "code",
   "execution_count": 7,
   "metadata": {},
   "outputs": [
    {
     "data": {
      "text/plain": [
       "0        {'fitValue': [{'value': {'intVal': 5}}], 'orig...\n",
       "1        {'fitValue': [{'value': {'intVal': 4}}], 'orig...\n",
       "2        {'fitValue': [{'value': {'intVal': 5}}], 'orig...\n",
       "3        {'fitValue': [{'value': {'intVal': 4}}], 'orig...\n",
       "4        {'fitValue': [{'value': {'intVal': 6}}], 'orig...\n",
       "                               ...                        \n",
       "32466    {'fitValue': [{'value': {'intVal': 1}}], 'orig...\n",
       "32467    {'fitValue': [{'value': {'intVal': 1}}], 'orig...\n",
       "32468    {'fitValue': [{'value': {'intVal': 4}}], 'orig...\n",
       "32469    {'fitValue': [{'value': {'intVal': 5}}], 'orig...\n",
       "32470    {'fitValue': [{'value': {'intVal': 4}}], 'orig...\n",
       "Name: Data Points, Length: 32471, dtype: object"
      ]
     },
     "execution_count": 7,
     "metadata": {},
     "output_type": "execute_result"
    }
   ],
   "source": [
    "data[\"Data Points\"]"
   ]
  },
  {
   "cell_type": "code",
   "execution_count": 15,
   "metadata": {},
   "outputs": [
    {
     "data": {
      "text/plain": [
       "{'fitValue': [{'value': {'intVal': 5}}],\n",
       " 'originDataSourceId': 'raw:com.google.sleep.segment:fitapp.fittofit:Sleep - activity segments',\n",
       " 'endTimeNanos': 1615642830000000000,\n",
       " 'dataTypeName': 'com.google.sleep.segment',\n",
       " 'startTimeNanos': 1615641630000000000,\n",
       " 'modifiedTimeMillis': 1616170250348,\n",
       " 'rawTimestampNanos': 0}"
      ]
     },
     "execution_count": 15,
     "metadata": {},
     "output_type": "execute_result"
    }
   ],
   "source": [
    "data[\"Data Points\"][0]"
   ]
  },
  {
   "cell_type": "code",
   "execution_count": 14,
   "metadata": {},
   "outputs": [
    {
     "data": {
      "text/plain": [
       "pandas.core.series.Series"
      ]
     },
     "execution_count": 14,
     "metadata": {},
     "output_type": "execute_result"
    }
   ],
   "source": [
    "type(data[\"Data Points\"])"
   ]
  },
  {
   "cell_type": "code",
   "execution_count": 17,
   "metadata": {},
   "outputs": [
    {
     "data": {
      "text/plain": [
       "dict"
      ]
     },
     "execution_count": 17,
     "metadata": {},
     "output_type": "execute_result"
    }
   ],
   "source": [
    "type(data[\"Data Points\"][0])"
   ]
  },
  {
   "cell_type": "code",
   "execution_count": 81,
   "metadata": {},
   "outputs": [],
   "source": [
    "from time import strftime, localtime\n",
    "from datetime import datetime"
   ]
  },
  {
   "cell_type": "code",
   "execution_count": 33,
   "metadata": {},
   "outputs": [
    {
     "data": {
      "text/plain": [
       "'2021-03-13 08:20:30'"
      ]
     },
     "execution_count": 33,
     "metadata": {},
     "output_type": "execute_result"
    }
   ],
   "source": [
    "strftime('%Y-%m-%d %H:%M:%S', localtime(1615641630))"
   ]
  },
  {
   "cell_type": "code",
   "execution_count": 85,
   "metadata": {},
   "outputs": [],
   "source": [
    "start_time = localtime(1615641630)\n",
    "end_time = localtime(1615642830)"
   ]
  },
  {
   "cell_type": "code",
   "execution_count": 88,
   "metadata": {},
   "outputs": [
    {
     "name": "stdout",
     "output_type": "stream",
     "text": [
      "time.struct_time(tm_year=2021, tm_mon=3, tm_mday=13, tm_hour=8, tm_min=20, tm_sec=30, tm_wday=5, tm_yday=72, tm_isdst=0) time.struct_time(tm_year=2021, tm_mon=3, tm_mday=13, tm_hour=8, tm_min=40, tm_sec=30, tm_wday=5, tm_yday=72, tm_isdst=0)\n"
     ]
    }
   ],
   "source": [
    "print(start_time, end_time)"
   ]
  },
  {
   "cell_type": "code",
   "execution_count": 89,
   "metadata": {},
   "outputs": [],
   "source": [
    "import dateutil.relativedelta"
   ]
  },
  {
   "cell_type": "code",
   "execution_count": 96,
   "metadata": {},
   "outputs": [],
   "source": [
    "dt1 = datetime.fromtimestamp(1615641630) # 1973-11-29 22:33:09\n",
    "dt2 = datetime.fromtimestamp(1615642830) # 1977-06-07 23:44:50\n",
    "rd = dateutil.relativedelta.relativedelta (dt2, dt1)"
   ]
  },
  {
   "cell_type": "code",
   "execution_count": 97,
   "metadata": {},
   "outputs": [
    {
     "name": "stdout",
     "output_type": "stream",
     "text": [
      "relativedelta(minutes=+20)\n"
     ]
    }
   ],
   "source": [
    "print(rd)"
   ]
  },
  {
   "cell_type": "code",
   "execution_count": 106,
   "metadata": {},
   "outputs": [
    {
     "data": {
      "text/plain": [
       "0.3333333333333333"
      ]
     },
     "execution_count": 106,
     "metadata": {},
     "output_type": "execute_result"
    }
   ],
   "source": [
    "rd.hours + rd.minutes/60"
   ]
  },
  {
   "cell_type": "code",
   "execution_count": null,
   "metadata": {},
   "outputs": [],
   "source": []
  },
  {
   "cell_type": "code",
   "execution_count": 131,
   "metadata": {},
   "outputs": [],
   "source": [
    "def sleep_len(dict):\n",
    "    for i in range(100):\n",
    "        dt1 = datetime.fromtimestamp(int(dict[i]['startTimeNanos']/(10**9)))\n",
    "        dt2 = datetime.fromtimestamp(int(dict[i]['endTimeNanos']/(10**9)))\n",
    "        rd = dateutil.relativedelta.relativedelta (dt2, dt1)\n",
    "        print(rd.hours + rd.minutes/60)"
   ]
  },
  {
   "cell_type": "code",
   "execution_count": 132,
   "metadata": {},
   "outputs": [
    {
     "data": {
      "text/plain": [
       "1615642830000000000"
      ]
     },
     "execution_count": 132,
     "metadata": {},
     "output_type": "execute_result"
    }
   ],
   "source": [
    "data[\"Data Points\"][0]['endTimeNanos']"
   ]
  },
  {
   "cell_type": "code",
   "execution_count": 133,
   "metadata": {},
   "outputs": [
    {
     "name": "stdout",
     "output_type": "stream",
     "text": [
      "0.3333333333333333\n",
      "0.21666666666666667\n",
      "0.11666666666666667\n",
      "0.05\n",
      "0.15\n",
      "0.3333333333333333\n",
      "0.11666666666666667\n",
      "0.3\n",
      "0.35\n",
      "0.8333333333333334\n",
      "0.26666666666666666\n",
      "0.16666666666666666\n",
      "0.3333333333333333\n",
      "0.06666666666666667\n",
      "0.05\n",
      "0.2833333333333333\n",
      "0.31666666666666665\n",
      "0.7\n",
      "0.3333333333333333\n",
      "0.1\n",
      "0.18333333333333332\n",
      "0.08333333333333333\n",
      "0.6166666666666667\n",
      "0.03333333333333333\n",
      "0.31666666666666665\n",
      "0.15\n",
      "0.18333333333333332\n",
      "0.21666666666666667\n",
      "0.5833333333333334\n",
      "0.2\n",
      "0.3\n",
      "0.4166666666666667\n",
      "0.38333333333333336\n",
      "0.06666666666666667\n",
      "0.9833333333333333\n",
      "0.85\n",
      "0.15\n",
      "0.0\n",
      "0.03333333333333333\n",
      "0.13333333333333333\n",
      "0.8166666666666667\n",
      "0.16666666666666666\n",
      "0.08333333333333333\n",
      "0.21666666666666667\n",
      "0.06666666666666667\n",
      "0.31666666666666665\n",
      "0.6\n",
      "0.16666666666666666\n",
      "0.08333333333333333\n",
      "0.08333333333333333\n",
      "0.03333333333333333\n",
      "0.3333333333333333\n",
      "1.05\n",
      "0.11666666666666667\n",
      "0.31666666666666665\n",
      "0.7\n",
      "0.2\n",
      "0.3333333333333333\n",
      "0.5833333333333334\n",
      "0.36666666666666664\n",
      "0.08333333333333333\n",
      "0.1\n",
      "0.31666666666666665\n",
      "0.0\n",
      "0.26666666666666666\n",
      "0.1\n",
      "0.13333333333333333\n",
      "0.1\n",
      "0.9333333333333333\n",
      "0.31666666666666665\n",
      "0.38333333333333336\n",
      "0.26666666666666666\n",
      "0.7666666666666667\n",
      "0.1\n",
      "0.38333333333333336\n",
      "0.08333333333333333\n",
      "0.0\n",
      "0.2\n",
      "0.13333333333333333\n",
      "0.1\n",
      "0.25\n",
      "0.55\n",
      "0.06666666666666667\n",
      "0.16666666666666666\n",
      "0.26666666666666666\n",
      "0.23333333333333334\n",
      "0.26666666666666666\n",
      "0.6166666666666667\n",
      "0.5333333333333333\n",
      "1.1666666666666667\n",
      "0.9\n",
      "0.15\n",
      "0.5166666666666667\n",
      "0.55\n",
      "0.6333333333333333\n",
      "0.85\n",
      "0.16666666666666666\n",
      "0.25\n",
      "0.08333333333333333\n",
      "0.18333333333333332\n"
     ]
    }
   ],
   "source": [
    "sleep_len(data[\"Data Points\"])"
   ]
  }
 ],
 "metadata": {
  "interpreter": {
   "hash": "34670f579e0d6b994239646fe4019edf3f1af9af2d1a42c74cd7bff4facbc92c"
  },
  "kernelspec": {
   "display_name": "Python 3.11.3 ('rebase')",
   "language": "python",
   "name": "python3"
  },
  "language_info": {
   "codemirror_mode": {
    "name": "ipython",
    "version": 3
   },
   "file_extension": ".py",
   "mimetype": "text/x-python",
   "name": "python",
   "nbconvert_exporter": "python",
   "pygments_lexer": "ipython3",
   "version": "3.11.3"
  },
  "orig_nbformat": 4
 },
 "nbformat": 4,
 "nbformat_minor": 2
}
